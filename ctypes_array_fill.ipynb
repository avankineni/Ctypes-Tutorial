{
 "cells": [
  {
   "cell_type": "markdown",
   "id": "introduction",
   "metadata": {},
   "source": [
    "# Using `ctypes` to Interface C with Python\n",
    "\n",
    "In this notebook, we'll explore how to use Python's `ctypes` library to interface with a C function that fills a NumPy array."
   ]
  },
  {
   "cell_type": "markdown",
   "id": "prerequisites",
   "metadata": {},
   "source": [
    "## Prerequisites\n",
    "\n",
    "Before we begin, ensure you have the following:\n",
    "\n",
    "- Python 3.x installed\n",
    "- GCC compiler (for Linux/macOS) or MinGW (for Windows)\n",
    "- NumPy library installed\n",
    "- Basic understanding of C and Python programming"
   ]
  },
  {
   "cell_type": "markdown",
   "id": "c-code",
   "metadata": {},
   "source": [
    "## 1. Writing the C Code\n",
    "\n",
    "Create a file named `array_fill.c` with the following content:"
   ]
  },
  {
   "cell_type": "code",
   "execution_count": null,
   "id": "c-code-snippet",
   "metadata": {},
   "outputs": [],
   "source": [
    "%%writefile array_fill.c\n",
    "\n",
    "#include <stddef.h>\n",
    "\n",
    "void fill_array(double *arr, size_t size) {\n",
    "    for (size_t i = 0; i < size; ++i) {\n",
    "        arr[i] = (double)i;\n",
    "    }\n",
    "}"
   ]
  },
  {
   "cell_type": "markdown",
   "id": "compile-c-code",
   "metadata": {},
   "source": [
    "## 2. Compiling the C Code into a Shared Library\n",
    "\n",
    "Compile the C code to create a shared library that can be loaded by Python."
   ]
  },
  {
   "cell_type": "code",
   "execution_count": null,
   "id": "compile-code-snippet",
   "metadata": {},
   "outputs": [],
   "source": [
    "!gcc -shared -o libarrayfill.so -fPIC array_fill.c"
   ]
  },
  {
   "cell_type": "markdown",
   "id": "python-wrapper",
   "metadata": {},
   "source": [
    "## 3. Creating the Python Wrapper\n",
    "\n",
    "We'll use `ctypes` to load the shared library and define a Python function that wraps the C function."
   ]
  },
  {
   "cell_type": "code",
   "execution_count": null,
   "id": "python-wrapper-snippet",
   "metadata": {},
   "outputs": [],
   "source": [
    "import ctypes\n",
    "import numpy as np\n",
    "import os\n",
    "\n",
    "# Determine the path to the shared library\n",
    "libname = './libarrayfill.so'\n",
    "\n",
    "# Load the shared library\n",
    "lib = ctypes.CDLL(libname)\n",
    "\n",
    "# Define the argument types for the C function\n",
    "lib.fill_array.argtypes = [\n",
    "    np.ctypeslib.ndpointer(dtype=np.float64, ndim=1, flags='C_CONTIGUOUS'),\n",
    "    ctypes.c_size_t\n",
    "]\n",
    "lib.fill_array.restype = None\n",
    "\n",
    "def fill_array(arr):\n",
    "    arr = np.ascontiguousarray(arr, dtype=np.float64)\n",
    "    size = arr.size\n",
    "    lib.fill_array(arr, size)"
   ]
  },
  {
   "cell_type": "markdown",
   "id": "using-the-wrapper",
   "metadata": {},
   "source": [
    "## 4. Using the Wrapper Function\n",
    "\n",
    "Let's create a NumPy array and use the `fill_array` function to fill it."
   ]
  },
  {
   "cell_type": "code",
   "execution_count": null,
   "id": "usage-example",
   "metadata": {},
   "outputs": [],
   "source": [
    "# Create a NumPy array of zeros\n",
    "array = np.zeros(10, dtype=np.float64)\n",
    "\n",
    "# Use the C function to fill the array\n",
    "fill_array(array)\n",
    "\n",
    "print(\"Filled Array:\")\n",
    "print(array)"
   ]
  },
  {
   "cell_type": "markdown",
   "id": "working-with-2d-arrays",
   "metadata": {},
   "source": [
    "## 5. Extending to Two-Dimensional Arrays\n",
    "\n",
    "We can modify the C function and the wrapper to work with 2D arrays."
   ]
  },
  {
   "cell_type": "code",
   "execution_count": null,
   "id": "2d-c-code",
   "metadata": {},
   "outputs": [],
   "source": [
    "%%writefile array_fill_2d.c\n",
    "\n",
    "#include <stddef.h>\n",
    "\n",
    "void fill_array_2d(double *arr, size_t rows, size_t cols) {\n",
    "    for (size_t i = 0; i < rows; ++i) {\n",
    "        for (size_t j = 0; j < cols; ++j) {\n",
    "            arr[i * cols + j] = (double)(i * cols + j);\n",
    "        }\n",
    "    }\n",
    "}"
   ]
  },
  {
   "cell_type": "code",
   "execution_count": null,
   "id": "compile-2d-c-code",
   "metadata": {},
   "outputs": [],
   "source": [
    "!gcc -shared -o libarrayfill2d.so -fPIC array_fill_2d.c"
   ]
  },
  {
   "cell_type": "code",
   "execution_count": null,
   "id": "2d-python-wrapper",
   "metadata": {},
   "outputs": [],
   "source": [
    "# Load the new shared library\n",
    "lib2d = ctypes.CDLL('./libarrayfill2d.so')\n",
    "\n",
    "# Define the argument types\n",
    "lib2d.fill_array_2d.argtypes = [\n",
    "    np.ctypeslib.ndpointer(dtype=np.float64, ndim=2, flags='C_CONTIGUOUS'),\n",
    "    ctypes.c_size_t,\n",
    "    ctypes.c_size_t\n",
    "]\n",
    "lib2d.fill_array_2d.restype = None\n",
    "\n",
    "def fill_array_2d(arr):\n",
    "    arr = np.ascontiguousarray(arr, dtype=np.float64)\n",
    "    rows, cols = arr.shape\n",
    "    lib2d.fill_array_2d(arr, rows, cols)"
   ]
  },
  {
   "cell_type": "code",
   "execution_count": null,
   "id": "2d-usage-example",
   "metadata": {},
   "outputs": [],
   "source": [
    "# Create a 2D NumPy array\n",
    "array_2d = np.zeros((3, 4), dtype=np.float64)\n",
    "\n",
    "# Use the C function to fill the array\n",
    "fill_array_2d(array_2d)\n",
    "\n",
    "print(\"Filled 2D Array:\")\n",
    "print(array_2d)"
   ]
  },
  {
   "cell_type": "markdown",
   "id": "conclusion",
   "metadata": {},
   "source": [
    "## 6. Conclusion\n",
    "\n",
    "We've successfully used `ctypes` to interface with C functions and manipulate NumPy arrays directly from C."
   ]
  }
 ],
 "metadata": {
  "kernelspec": {
   "display_name": "Python 3",
   "language": "python",
   "name": "python3"
  },
  "language_info": {
   "name": "python"
  },
  "orig_nbformat": 4
 },
 "nbformat": 4,
 "nbformat_minor": 5
}

