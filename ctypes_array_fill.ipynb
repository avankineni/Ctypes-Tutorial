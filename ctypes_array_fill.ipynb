{
  "cells": [
    {
      "cell_type": "markdown",
      "id": "introduction",
      "metadata": {
        "id": "introduction"
      },
      "source": [
        "# Using `ctypes` to Interface C with Python\n",
        "\n",
        "In this notebook, we'll explore how to use Python's `ctypes` library to interface with a C function that fills a NumPy array."
      ]
    },
    {
      "cell_type": "markdown",
      "id": "prerequisites",
      "metadata": {
        "id": "prerequisites"
      },
      "source": [
        "## Prerequisites\n",
        "\n",
        "Before we begin, ensure you have the following:\n",
        "\n",
        "- Python 3.x installed\n",
        "- GCC compiler (for Linux/macOS) or MinGW (for Windows)\n",
        "- NumPy library installed"
      ]
    },
    {
      "cell_type": "markdown",
      "id": "c-code",
      "metadata": {
        "id": "c-code"
      },
      "source": [
        "## 1. Writing the C Code\n",
        "\n",
        "Create a file named `array_fill.c` with the following content:"
      ]
    },
    {
      "cell_type": "code",
      "execution_count": 1,
      "id": "c-code-snippet",
      "metadata": {
        "colab": {
          "base_uri": "https://localhost:8080/"
        },
        "id": "c-code-snippet",
        "outputId": "bd46076b-1953-4318-b98e-c001d9640e13"
      },
      "outputs": [
        {
          "output_type": "stream",
          "name": "stdout",
          "text": [
            "Writing array_fill.c\n"
          ]
        }
      ],
      "source": [
        "%%writefile array_fill.c\n",
        "\n",
        "#include <stddef.h>\n",
        "\n",
        "void fill_array(double *arr, size_t size) {\n",
        "    for (size_t i = 0; i < size; ++i) {\n",
        "        arr[i] = (double)i;\n",
        "    }\n",
        "}"
      ]
    },
    {
      "cell_type": "markdown",
      "id": "compile-c-code",
      "metadata": {
        "id": "compile-c-code"
      },
      "source": [
        "## 2. Compiling the C Code into a Shared Library\n",
        "\n",
        "Compile the C code to create a shared library that can be loaded by Python."
      ]
    },
    {
      "cell_type": "code",
      "execution_count": 2,
      "id": "compile-code-snippet",
      "metadata": {
        "id": "compile-code-snippet"
      },
      "outputs": [],
      "source": [
        "!gcc -shared -o libarrayfill.so -fPIC array_fill.c"
      ]
    },
    {
      "cell_type": "markdown",
      "id": "python-wrapper",
      "metadata": {
        "id": "python-wrapper"
      },
      "source": [
        "## 3. Creating the Python Wrapper\n",
        "\n",
        "We'll use `ctypes` to load the shared library and define a Python function that wraps the C function."
      ]
    },
    {
      "cell_type": "code",
      "execution_count": 3,
      "id": "python-wrapper-snippet",
      "metadata": {
        "id": "python-wrapper-snippet"
      },
      "outputs": [],
      "source": [
        "import ctypes\n",
        "import numpy as np\n",
        "import os\n",
        "\n",
        "# Determine the path to the shared library\n",
        "libname = './libarrayfill.so'\n",
        "\n",
        "# Load the shared library\n",
        "lib = ctypes.CDLL(libname)\n",
        "\n",
        "# Define the argument types for the C function\n",
        "lib.fill_array.argtypes = [\n",
        "    np.ctypeslib.ndpointer(dtype=np.float64, ndim=1, flags='C_CONTIGUOUS'),\n",
        "    ctypes.c_size_t\n",
        "]\n",
        "lib.fill_array.restype = None\n",
        "\n",
        "def fill_array(arr):\n",
        "    arr = np.ascontiguousarray(arr, dtype=np.float64)\n",
        "    size = arr.size\n",
        "    lib.fill_array(arr, size)"
      ]
    },
    {
      "cell_type": "markdown",
      "id": "using-the-wrapper",
      "metadata": {
        "id": "using-the-wrapper"
      },
      "source": [
        "## 4. Using the Wrapper Function\n",
        "\n",
        "Let's create a NumPy array and use the `fill_array` function to fill it."
      ]
    },
    {
      "cell_type": "code",
      "execution_count": 4,
      "id": "usage-example",
      "metadata": {
        "colab": {
          "base_uri": "https://localhost:8080/"
        },
        "id": "usage-example",
        "outputId": "0209b40b-9eab-4bcc-a0db-a9b9bdab6263"
      },
      "outputs": [
        {
          "output_type": "stream",
          "name": "stdout",
          "text": [
            "Filled Array:\n",
            "[0. 1. 2. 3. 4. 5. 6. 7. 8. 9.]\n"
          ]
        }
      ],
      "source": [
        "# Create a NumPy array of zeros\n",
        "array = np.zeros(10, dtype=np.float64)\n",
        "\n",
        "# Use the C function to fill the array\n",
        "fill_array(array)\n",
        "\n",
        "print(\"Filled Array:\")\n",
        "print(array)"
      ]
    },
    {
      "cell_type": "markdown",
      "id": "working-with-2d-arrays",
      "metadata": {
        "id": "working-with-2d-arrays"
      },
      "source": [
        "## 5. Extending to Two-Dimensional Arrays\n",
        "\n",
        "We can modify the C function and the wrapper to work with 2D arrays."
      ]
    },
    {
      "cell_type": "code",
      "execution_count": 5,
      "id": "2d-c-code",
      "metadata": {
        "colab": {
          "base_uri": "https://localhost:8080/"
        },
        "id": "2d-c-code",
        "outputId": "e3db60fa-84d7-4264-e6e6-37a9709863d8"
      },
      "outputs": [
        {
          "output_type": "stream",
          "name": "stdout",
          "text": [
            "Writing array_fill_2d.c\n"
          ]
        }
      ],
      "source": [
        "%%writefile array_fill_2d.c\n",
        "\n",
        "#include <stddef.h>\n",
        "\n",
        "void fill_array_2d(double *arr, size_t rows, size_t cols) {\n",
        "    for (size_t i = 0; i < rows; ++i) {\n",
        "        for (size_t j = 0; j < cols; ++j) {\n",
        "            arr[i * cols + j] = (double)(i * cols + j);\n",
        "        }\n",
        "    }\n",
        "}"
      ]
    },
    {
      "cell_type": "code",
      "execution_count": 6,
      "id": "compile-2d-c-code",
      "metadata": {
        "id": "compile-2d-c-code"
      },
      "outputs": [],
      "source": [
        "!gcc -shared -o libarrayfill2d.so -fPIC array_fill_2d.c"
      ]
    },
    {
      "cell_type": "code",
      "execution_count": 7,
      "id": "2d-python-wrapper",
      "metadata": {
        "id": "2d-python-wrapper"
      },
      "outputs": [],
      "source": [
        "# Load the new shared library\n",
        "lib2d = ctypes.CDLL('./libarrayfill2d.so')\n",
        "\n",
        "# Define the argument types\n",
        "lib2d.fill_array_2d.argtypes = [\n",
        "    np.ctypeslib.ndpointer(dtype=np.float64, ndim=2, flags='C_CONTIGUOUS'),\n",
        "    ctypes.c_size_t,\n",
        "    ctypes.c_size_t\n",
        "]\n",
        "lib2d.fill_array_2d.restype = None\n",
        "\n",
        "def fill_array_2d(arr):\n",
        "    arr = np.ascontiguousarray(arr, dtype=np.float64)\n",
        "    rows, cols = arr.shape\n",
        "    lib2d.fill_array_2d(arr, rows, cols)"
      ]
    },
    {
      "cell_type": "code",
      "execution_count": 8,
      "id": "2d-usage-example",
      "metadata": {
        "colab": {
          "base_uri": "https://localhost:8080/"
        },
        "id": "2d-usage-example",
        "outputId": "ac2dc5ba-b568-4a73-f546-b2a162f4732d"
      },
      "outputs": [
        {
          "output_type": "stream",
          "name": "stdout",
          "text": [
            "Filled 2D Array:\n",
            "[[ 0.  1.  2.  3.]\n",
            " [ 4.  5.  6.  7.]\n",
            " [ 8.  9. 10. 11.]]\n"
          ]
        }
      ],
      "source": [
        "# Create a 2D NumPy array\n",
        "array_2d = np.zeros((3, 4), dtype=np.float64)\n",
        "\n",
        "# Use the C function to fill the array\n",
        "fill_array_2d(array_2d)\n",
        "\n",
        "print(\"Filled 2D Array:\")\n",
        "print(array_2d)"
      ]
    },
    {
      "cell_type": "markdown",
      "id": "conclusion",
      "metadata": {
        "id": "conclusion"
      },
      "source": [
        "## 6. Conclusion\n",
        "\n",
        "We've successfully used `ctypes` to interface with C functions and manipulate NumPy arrays directly from C."
      ]
    }
  ],
  "metadata": {
    "kernelspec": {
      "display_name": "Python 3",
      "language": "python",
      "name": "python3"
    },
    "language_info": {
      "name": "python"
    },
    "orig_nbformat": 4,
    "colab": {
      "provenance": []
    }
  },
  "nbformat": 4,
  "nbformat_minor": 5
}